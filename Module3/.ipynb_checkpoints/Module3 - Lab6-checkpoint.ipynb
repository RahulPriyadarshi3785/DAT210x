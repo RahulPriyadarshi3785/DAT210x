{
 "cells": [
  {
   "cell_type": "markdown",
   "metadata": {},
   "source": [
    "# DAT210x - Programming with Python for DS"
   ]
  },
  {
   "cell_type": "markdown",
   "metadata": {},
   "source": [
    "## Module3 - Lab6"
   ]
  },
  {
   "cell_type": "code",
   "execution_count": 2,
   "metadata": {
    "collapsed": true
   },
   "outputs": [],
   "source": [
    "import pandas as pd\n",
    "import matplotlib.pyplot as plt\n",
    "import matplotlib"
   ]
  },
  {
   "cell_type": "code",
   "execution_count": 3,
   "metadata": {},
   "outputs": [],
   "source": [
    "from scipy import misc\n",
    "# Look pretty...\n",
    "\n",
    "# matplotlib.style.use('ggplot')\n",
    "plt.style.use('ggplot')"
   ]
  },
  {
   "cell_type": "markdown",
   "metadata": {},
   "source": [
    "Load up the wheat seeds dataset into a dataframe. We've stored a copy in the Datasets directory."
   ]
  },
  {
   "cell_type": "code",
   "execution_count": 4,
   "metadata": {
    "collapsed": true
   },
   "outputs": [],
   "source": [
    "df = pd.read_csv(\"Datasets/wheat.data\", index_col = 0, header = 0)"
   ]
  },
  {
   "cell_type": "markdown",
   "metadata": {},
   "source": [
    "If you loaded the `id` column as a feature (hint: _you shouldn't have!_), then be sure to drop it. Also get rid of the `area` and `perimeter` features:"
   ]
  },
  {
   "cell_type": "code",
   "execution_count": 5,
   "metadata": {
    "collapsed": true
   },
   "outputs": [],
   "source": [
    "df = df.drop(labels = [\"area\",\"perimeter\"], axis = 1)"
   ]
  },
  {
   "cell_type": "markdown",
   "metadata": {},
   "source": [
    "Compute the correlation matrix of your dataframe:"
   ]
  },
  {
   "cell_type": "code",
   "execution_count": 6,
   "metadata": {
    "collapsed": true
   },
   "outputs": [],
   "source": [
    "df_corr = df.corr()"
   ]
  },
  {
   "cell_type": "markdown",
   "metadata": {},
   "source": [
    "Graph the correlation matrix using `imshow` or `matshow`:"
   ]
  },
  {
   "cell_type": "code",
   "execution_count": 19,
   "metadata": {},
   "outputs": [
    {
     "data": {
      "text/plain": [
       "([<matplotlib.axis.YTick at 0x14d91672be0>,\n",
       "  <matplotlib.axis.YTick at 0x14d902f02b0>,\n",
       "  <matplotlib.axis.YTick at 0x14d9167a6d8>,\n",
       "  <matplotlib.axis.YTick at 0x14d916e4748>,\n",
       "  <matplotlib.axis.YTick at 0x14d916ed780>,\n",
       "  <matplotlib.axis.YTick at 0x14d916eda58>],\n",
       " <a list of 6 Text yticklabel objects>)"
      ]
     },
     "execution_count": 19,
     "metadata": {},
     "output_type": "execute_result"
    }
   ],
   "source": [
    "plt.imshow(df_corr, cmap=plt.cm.Blues, interpolation='nearest')\n",
    "plt.colorbar()\n",
    "tick_marks = [i for i in range(len(df.columns))]\n",
    "plt.xticks(tick_marks, df.columns, rotation='vertical')\n",
    "plt.yticks(tick_marks, df.columns)"
   ]
  },
  {
   "cell_type": "code",
   "execution_count": 20,
   "metadata": {},
   "outputs": [
    {
     "data": {
      "image/png": "[encoded data removed]",
      "text/plain": [
       "<matplotlib.figure.Figure at 0x14d902ecfd0>"
      ]
     },
     "metadata": {},
     "output_type": "display_data"
    }
   ],
   "source": [
    "# Display the graphs:\n",
    "plt.show()"
   ]
  },
  {
   "cell_type": "code",
   "execution_count": 21,
   "metadata": {},
   "outputs": [
    {
     "data": {
      "text/html": [
       "<div>\n",
       "<style>\n",
       "    .dataframe thead tr:only-child th {\n",
       "        text-align: right;\n",
       "    }\n",
       "\n",
       "    .dataframe thead th {\n",
       "        text-align: left;\n",
       "    }\n",
       "\n",
       "    .dataframe tbody tr th {\n",
       "        vertical-align: top;\n",
       "    }\n",
       "</style>\n",
       "<table border=\"1\" class=\"dataframe\">\n",
       "  <thead>\n",
       "    <tr style=\"text-align: right;\">\n",
       "      <th></th>\n",
       "      <th>compactness</th>\n",
       "      <th>length</th>\n",
       "      <th>width</th>\n",
       "      <th>asymmetry</th>\n",
       "      <th>groove</th>\n",
       "    </tr>\n",
       "  </thead>\n",
       "  <tbody>\n",
       "    <tr>\n",
       "      <th>compactness</th>\n",
       "      <td>1.000000</td>\n",
       "      <td>0.360060</td>\n",
       "      <td>0.756165</td>\n",
       "      <td>-0.315668</td>\n",
       "      <td>0.236184</td>\n",
       "    </tr>\n",
       "    <tr>\n",
       "      <th>length</th>\n",
       "      <td>0.360060</td>\n",
       "      <td>1.000000</td>\n",
       "      <td>0.197228</td>\n",
       "      <td>-0.102325</td>\n",
       "      <td>0.669887</td>\n",
       "    </tr>\n",
       "    <tr>\n",
       "      <th>width</th>\n",
       "      <td>0.756165</td>\n",
       "      <td>0.197228</td>\n",
       "      <td>1.000000</td>\n",
       "      <td>-0.249378</td>\n",
       "      <td>0.619865</td>\n",
       "    </tr>\n",
       "    <tr>\n",
       "      <th>asymmetry</th>\n",
       "      <td>-0.315668</td>\n",
       "      <td>-0.102325</td>\n",
       "      <td>-0.249378</td>\n",
       "      <td>1.000000</td>\n",
       "      <td>-0.039248</td>\n",
       "    </tr>\n",
       "    <tr>\n",
       "      <th>groove</th>\n",
       "      <td>0.236184</td>\n",
       "      <td>0.669887</td>\n",
       "      <td>0.619865</td>\n",
       "      <td>-0.039248</td>\n",
       "      <td>1.000000</td>\n",
       "    </tr>\n",
       "  </tbody>\n",
       "</table>\n",
       "</div>"
      ],
      "text/plain": [
       "             compactness    length     width  asymmetry    groove\n",
       "compactness     1.000000  0.360060  0.756165  -0.315668  0.236184\n",
       "length          0.360060  1.000000  0.197228  -0.102325  0.669887\n",
       "width           0.756165  0.197228  1.000000  -0.249378  0.619865\n",
       "asymmetry      -0.315668 -0.102325 -0.249378   1.000000 -0.039248\n",
       "groove          0.236184  0.669887  0.619865  -0.039248  1.000000"
      ]
     },
     "execution_count": 21,
     "metadata": {},
     "output_type": "execute_result"
    }
   ],
   "source": [
    "df_corr"
   ]
  },
  {
   "cell_type": "code",
   "execution_count": 23,
   "metadata": {},
   "outputs": [],
   "source": [
    "df = pd.read_csv(\"Datasets/wheat.data\", index_col = 0, header = 0)"
   ]
  },
  {
   "cell_type": "code",
   "execution_count": 24,
   "metadata": {
    "collapsed": true
   },
   "outputs": [],
   "source": [
    "df_corr = df.corr()"
   ]
  },
  {
   "cell_type": "code",
   "execution_count": 25,
   "metadata": {},
   "outputs": [
    {
     "data": {
      "text/plain": [
       "([<matplotlib.axis.YTick at 0x14d9181b438>,\n",
       "  <matplotlib.axis.YTick at 0x14d9181b828>,\n",
       "  <matplotlib.axis.YTick at 0x14d91815978>,\n",
       "  <matplotlib.axis.YTick at 0x14d91883898>,\n",
       "  <matplotlib.axis.YTick at 0x14d918915c0>,\n",
       "  <matplotlib.axis.YTick at 0x14d91891c88>,\n",
       "  <matplotlib.axis.YTick at 0x14d9189a390>,\n",
       "  <matplotlib.axis.YTick at 0x14d91891208>],\n",
       " <a list of 8 Text yticklabel objects>)"
      ]
     },
     "execution_count": 25,
     "metadata": {},
     "output_type": "execute_result"
    }
   ],
   "source": [
    "plt.imshow(df_corr, cmap=plt.cm.Blues, interpolation='nearest')\n",
    "plt.colorbar()\n",
    "tick_marks = [i for i in range(len(df.columns))]\n",
    "plt.xticks(tick_marks, df.columns, rotation='vertical')\n",
    "plt.yticks(tick_marks, df.columns)"
   ]
  },
  {
   "cell_type": "code",
   "execution_count": 26,
   "metadata": {},
   "outputs": [
    {
     "data": {
      "image/png": "[encoded data removed]",
      "text/plain": [
       "<matplotlib.figure.Figure at 0x14d917dad68>"
      ]
     },
     "metadata": {},
     "output_type": "display_data"
    }
   ],
   "source": [
    "plt.show()"
   ]
  },
  {
   "cell_type": "code",
   "execution_count": 27,
   "metadata": {},
   "outputs": [
    {
     "data": {
      "text/html": [
       "<div>\n",
       "<style>\n",
       "    .dataframe thead tr:only-child th {\n",
       "        text-align: right;\n",
       "    }\n",
       "\n",
       "    .dataframe thead th {\n",
       "        text-align: left;\n",
       "    }\n",
       "\n",
       "    .dataframe tbody tr th {\n",
       "        vertical-align: top;\n",
       "    }\n",
       "</style>\n",
       "<table border=\"1\" class=\"dataframe\">\n",
       "  <thead>\n",
       "    <tr style=\"text-align: right;\">\n",
       "      <th></th>\n",
       "      <th>area</th>\n",
       "      <th>perimeter</th>\n",
       "      <th>compactness</th>\n",
       "      <th>length</th>\n",
       "      <th>width</th>\n",
       "      <th>asymmetry</th>\n",
       "      <th>groove</th>\n",
       "    </tr>\n",
       "  </thead>\n",
       "  <tbody>\n",
       "    <tr>\n",
       "      <th>area</th>\n",
       "      <td>1.000000</td>\n",
       "      <td>0.994341</td>\n",
       "      <td>0.600312</td>\n",
       "      <td>0.645418</td>\n",
       "      <td>0.801616</td>\n",
       "      <td>-0.205876</td>\n",
       "      <td>0.786096</td>\n",
       "    </tr>\n",
       "    <tr>\n",
       "      <th>perimeter</th>\n",
       "      <td>0.994341</td>\n",
       "      <td>1.000000</td>\n",
       "      <td>0.520544</td>\n",
       "      <td>0.657490</td>\n",
       "      <td>0.783188</td>\n",
       "      <td>-0.196360</td>\n",
       "      <td>0.813256</td>\n",
       "    </tr>\n",
       "    <tr>\n",
       "      <th>compactness</th>\n",
       "      <td>0.600312</td>\n",
       "      <td>0.520544</td>\n",
       "      <td>1.000000</td>\n",
       "      <td>0.360060</td>\n",
       "      <td>0.756165</td>\n",
       "      <td>-0.315668</td>\n",
       "      <td>0.236184</td>\n",
       "    </tr>\n",
       "    <tr>\n",
       "      <th>length</th>\n",
       "      <td>0.645418</td>\n",
       "      <td>0.657490</td>\n",
       "      <td>0.360060</td>\n",
       "      <td>1.000000</td>\n",
       "      <td>0.197228</td>\n",
       "      <td>-0.102325</td>\n",
       "      <td>0.669887</td>\n",
       "    </tr>\n",
       "    <tr>\n",
       "      <th>width</th>\n",
       "      <td>0.801616</td>\n",
       "      <td>0.783188</td>\n",
       "      <td>0.756165</td>\n",
       "      <td>0.197228</td>\n",
       "      <td>1.000000</td>\n",
       "      <td>-0.249378</td>\n",
       "      <td>0.619865</td>\n",
       "    </tr>\n",
       "    <tr>\n",
       "      <th>asymmetry</th>\n",
       "      <td>-0.205876</td>\n",
       "      <td>-0.196360</td>\n",
       "      <td>-0.315668</td>\n",
       "      <td>-0.102325</td>\n",
       "      <td>-0.249378</td>\n",
       "      <td>1.000000</td>\n",
       "      <td>-0.039248</td>\n",
       "    </tr>\n",
       "    <tr>\n",
       "      <th>groove</th>\n",
       "      <td>0.786096</td>\n",
       "      <td>0.813256</td>\n",
       "      <td>0.236184</td>\n",
       "      <td>0.669887</td>\n",
       "      <td>0.619865</td>\n",
       "      <td>-0.039248</td>\n",
       "      <td>1.000000</td>\n",
       "    </tr>\n",
       "  </tbody>\n",
       "</table>\n",
       "</div>"
      ],
      "text/plain": [
       "                 area  perimeter  compactness    length     width  asymmetry  \\\n",
       "area         1.000000   0.994341     0.600312  0.645418  0.801616  -0.205876   \n",
       "perimeter    0.994341   1.000000     0.520544  0.657490  0.783188  -0.196360   \n",
       "compactness  0.600312   0.520544     1.000000  0.360060  0.756165  -0.315668   \n",
       "length       0.645418   0.657490     0.360060  1.000000  0.197228  -0.102325   \n",
       "width        0.801616   0.783188     0.756165  0.197228  1.000000  -0.249378   \n",
       "asymmetry   -0.205876  -0.196360    -0.315668 -0.102325 -0.249378   1.000000   \n",
       "groove       0.786096   0.813256     0.236184  0.669887  0.619865  -0.039248   \n",
       "\n",
       "               groove  \n",
       "area         0.786096  \n",
       "perimeter    0.813256  \n",
       "compactness  0.236184  \n",
       "length       0.669887  \n",
       "width        0.619865  \n",
       "asymmetry   -0.039248  \n",
       "groove       1.000000  "
      ]
     },
     "execution_count": 27,
     "metadata": {},
     "output_type": "execute_result"
    }
   ],
   "source": [
    "df_corr"
   ]
  },
  {
   "cell_type": "code",
   "execution_count": 28,
   "metadata": {},
   "outputs": [
    {
     "data": {
      "text/plain": [
       "'area'"
      ]
     },
     "execution_count": 28,
     "metadata": {},
     "output_type": "execute_result"
    }
   ],
   "source": [
    "min(df_corr)"
   ]
  },
  {
   "cell_type": "code",
   "execution_count": null,
   "metadata": {
    "collapsed": true
   },
   "outputs": [],
   "source": []
  }
 ],
 "metadata": {
  "anaconda-cloud": {},
  "kernelspec": {
   "display_name": "Python 3",
   "language": "python",
   "name": "python3"
  },
  "language_info": {
   "codemirror_mode": {
    "name": "ipython",
    "version": 3
   },
   "file_extension": ".py",
   "mimetype": "text/x-python",
   "name": "python",
   "nbconvert_exporter": "python",
   "pygments_lexer": "ipython3",
   "version": "3.6.2"
  },
  "toc": {
   "colors": {
    "hover_highlight": "#DAA520",
    "running_highlight": "#FF0000",
    "selected_highlight": "#FFD700"
   },
   "moveMenuLeft": true,
   "nav_menu": {
    "height": "58px",
    "width": "252px"
   },
   "navigate_menu": true,
   "number_sections": true,
   "sideBar": true,
   "threshold": 4,
   "toc_cell": false,
   "toc_section_display": "block",
   "toc_window_display": false,
   "widenNotebook": false
  }
 },
 "nbformat": 4,
 "nbformat_minor": 2
}

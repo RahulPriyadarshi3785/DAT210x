{
 "cells": [
  {
   "cell_type": "code",
   "execution_count": 196,
   "metadata": {
    "collapsed": true
   },
   "outputs": [],
   "source": [
    "import pandas as pd\n",
    "import numpy as np\n",
    "from lightfm import LightFM\n",
    "from scipy import sparse\n",
    "from scipy.sparse import coo_matrix"
   ]
  },
  {
   "cell_type": "code",
   "execution_count": 197,
   "metadata": {},
   "outputs": [
    {
     "data": {
      "text/html": [
       "<div>\n",
       "<style scoped>\n",
       "    .dataframe tbody tr th:only-of-type {\n",
       "        vertical-align: middle;\n",
       "    }\n",
       "\n",
       "    .dataframe tbody tr th {\n",
       "        vertical-align: top;\n",
       "    }\n",
       "\n",
       "    .dataframe thead th {\n",
       "        text-align: right;\n",
       "    }\n",
       "</style>\n",
       "<table border=\"1\" class=\"dataframe\">\n",
       "  <thead>\n",
       "    <tr style=\"text-align: right;\">\n",
       "      <th></th>\n",
       "      <th>placeID</th>\n",
       "      <th>latitude</th>\n",
       "      <th>longitude</th>\n",
       "      <th>the_geom_meter</th>\n",
       "      <th>name</th>\n",
       "      <th>address</th>\n",
       "      <th>city</th>\n",
       "      <th>state</th>\n",
       "      <th>country</th>\n",
       "      <th>fax</th>\n",
       "      <th>...</th>\n",
       "      <th>alcohol</th>\n",
       "      <th>smoking_area</th>\n",
       "      <th>dress_code</th>\n",
       "      <th>accessibility</th>\n",
       "      <th>price</th>\n",
       "      <th>url</th>\n",
       "      <th>Rambience</th>\n",
       "      <th>franchise</th>\n",
       "      <th>area</th>\n",
       "      <th>other_services</th>\n",
       "    </tr>\n",
       "  </thead>\n",
       "  <tbody>\n",
       "    <tr>\n",
       "      <th>0</th>\n",
       "      <td>134999</td>\n",
       "      <td>18.915421</td>\n",
       "      <td>-99.184871</td>\n",
       "      <td>0101000020957F000088568DE356715AC138C0A525FC46...</td>\n",
       "      <td>Kiku Cuernavaca</td>\n",
       "      <td>Revolucion</td>\n",
       "      <td>Cuernavaca</td>\n",
       "      <td>Morelos</td>\n",
       "      <td>Mexico</td>\n",
       "      <td>?</td>\n",
       "      <td>...</td>\n",
       "      <td>No_Alcohol_Served</td>\n",
       "      <td>none</td>\n",
       "      <td>informal</td>\n",
       "      <td>no_accessibility</td>\n",
       "      <td>medium</td>\n",
       "      <td>kikucuernavaca.com.mx</td>\n",
       "      <td>familiar</td>\n",
       "      <td>f</td>\n",
       "      <td>closed</td>\n",
       "      <td>none</td>\n",
       "    </tr>\n",
       "    <tr>\n",
       "      <th>1</th>\n",
       "      <td>132825</td>\n",
       "      <td>22.147392</td>\n",
       "      <td>-100.983092</td>\n",
       "      <td>0101000020957F00001AD016568C4858C1243261274BA5...</td>\n",
       "      <td>puesto de tacos</td>\n",
       "      <td>esquina santos degollado y leon guzman</td>\n",
       "      <td>s.l.p.</td>\n",
       "      <td>s.l.p.</td>\n",
       "      <td>mexico</td>\n",
       "      <td>?</td>\n",
       "      <td>...</td>\n",
       "      <td>No_Alcohol_Served</td>\n",
       "      <td>none</td>\n",
       "      <td>informal</td>\n",
       "      <td>completely</td>\n",
       "      <td>low</td>\n",
       "      <td>?</td>\n",
       "      <td>familiar</td>\n",
       "      <td>f</td>\n",
       "      <td>open</td>\n",
       "      <td>none</td>\n",
       "    </tr>\n",
       "    <tr>\n",
       "      <th>2</th>\n",
       "      <td>135106</td>\n",
       "      <td>22.149709</td>\n",
       "      <td>-100.976093</td>\n",
       "      <td>0101000020957F0000649D6F21634858C119AE9BF528A3...</td>\n",
       "      <td>El Rincón de San Francisco</td>\n",
       "      <td>Universidad 169</td>\n",
       "      <td>San Luis Potosi</td>\n",
       "      <td>San Luis Potosi</td>\n",
       "      <td>Mexico</td>\n",
       "      <td>?</td>\n",
       "      <td>...</td>\n",
       "      <td>Wine-Beer</td>\n",
       "      <td>only at bar</td>\n",
       "      <td>informal</td>\n",
       "      <td>partially</td>\n",
       "      <td>medium</td>\n",
       "      <td>?</td>\n",
       "      <td>familiar</td>\n",
       "      <td>f</td>\n",
       "      <td>open</td>\n",
       "      <td>none</td>\n",
       "    </tr>\n",
       "    <tr>\n",
       "      <th>3</th>\n",
       "      <td>132667</td>\n",
       "      <td>23.752697</td>\n",
       "      <td>-99.163359</td>\n",
       "      <td>0101000020957F00005D67BCDDED8157C1222A2DC8D84D...</td>\n",
       "      <td>little pizza Emilio Portes Gil</td>\n",
       "      <td>calle emilio portes gil</td>\n",
       "      <td>victoria</td>\n",
       "      <td>tamaulipas</td>\n",
       "      <td>?</td>\n",
       "      <td>?</td>\n",
       "      <td>...</td>\n",
       "      <td>No_Alcohol_Served</td>\n",
       "      <td>none</td>\n",
       "      <td>informal</td>\n",
       "      <td>completely</td>\n",
       "      <td>low</td>\n",
       "      <td>?</td>\n",
       "      <td>familiar</td>\n",
       "      <td>t</td>\n",
       "      <td>closed</td>\n",
       "      <td>none</td>\n",
       "    </tr>\n",
       "    <tr>\n",
       "      <th>4</th>\n",
       "      <td>132613</td>\n",
       "      <td>23.752903</td>\n",
       "      <td>-99.165076</td>\n",
       "      <td>0101000020957F00008EBA2D06DC8157C194E03B7B504E...</td>\n",
       "      <td>carnitas_mata</td>\n",
       "      <td>lic. Emilio portes gil</td>\n",
       "      <td>victoria</td>\n",
       "      <td>Tamaulipas</td>\n",
       "      <td>Mexico</td>\n",
       "      <td>?</td>\n",
       "      <td>...</td>\n",
       "      <td>No_Alcohol_Served</td>\n",
       "      <td>permitted</td>\n",
       "      <td>informal</td>\n",
       "      <td>completely</td>\n",
       "      <td>medium</td>\n",
       "      <td>?</td>\n",
       "      <td>familiar</td>\n",
       "      <td>t</td>\n",
       "      <td>closed</td>\n",
       "      <td>none</td>\n",
       "    </tr>\n",
       "  </tbody>\n",
       "</table>\n",
       "<p>5 rows × 21 columns</p>\n",
       "</div>"
      ],
      "text/plain": [
       "   placeID   latitude   longitude  \\\n",
       "0   134999  18.915421  -99.184871   \n",
       "1   132825  22.147392 -100.983092   \n",
       "2   135106  22.149709 -100.976093   \n",
       "3   132667  23.752697  -99.163359   \n",
       "4   132613  23.752903  -99.165076   \n",
       "\n",
       "                                      the_geom_meter  \\\n",
       "0  0101000020957F000088568DE356715AC138C0A525FC46...   \n",
       "1  0101000020957F00001AD016568C4858C1243261274BA5...   \n",
       "2  0101000020957F0000649D6F21634858C119AE9BF528A3...   \n",
       "3  0101000020957F00005D67BCDDED8157C1222A2DC8D84D...   \n",
       "4  0101000020957F00008EBA2D06DC8157C194E03B7B504E...   \n",
       "\n",
       "                             name                                 address  \\\n",
       "0                 Kiku Cuernavaca                              Revolucion   \n",
       "1                 puesto de tacos  esquina santos degollado y leon guzman   \n",
       "2      El Rincón de San Francisco                         Universidad 169   \n",
       "3  little pizza Emilio Portes Gil                 calle emilio portes gil   \n",
       "4                   carnitas_mata                  lic. Emilio portes gil   \n",
       "\n",
       "              city            state country fax      ...        \\\n",
       "0       Cuernavaca          Morelos  Mexico   ?      ...         \n",
       "1           s.l.p.           s.l.p.  mexico   ?      ...         \n",
       "2  San Luis Potosi  San Luis Potosi  Mexico   ?      ...         \n",
       "3        victoria        tamaulipas       ?   ?      ...         \n",
       "4         victoria       Tamaulipas  Mexico   ?      ...         \n",
       "\n",
       "             alcohol smoking_area dress_code     accessibility   price  \\\n",
       "0  No_Alcohol_Served         none   informal  no_accessibility  medium   \n",
       "1  No_Alcohol_Served         none   informal        completely     low   \n",
       "2          Wine-Beer  only at bar   informal         partially  medium   \n",
       "3  No_Alcohol_Served         none   informal        completely     low   \n",
       "4  No_Alcohol_Served    permitted   informal        completely  medium   \n",
       "\n",
       "                     url Rambience franchise    area other_services  \n",
       "0  kikucuernavaca.com.mx  familiar         f  closed           none  \n",
       "1                      ?  familiar         f    open           none  \n",
       "2                      ?  familiar         f    open           none  \n",
       "3                      ?  familiar         t  closed           none  \n",
       "4                      ?  familiar         t  closed           none  \n",
       "\n",
       "[5 rows x 21 columns]"
      ]
     },
     "execution_count": 197,
     "metadata": {},
     "output_type": "execute_result"
    }
   ],
   "source": [
    "df = pd.read_csv('C:/Users/hp/Documents/JupyterDemo/Data Food Items/rating_final.csv', sep = ',', header = 0)\n",
    "rest_name = pd.read_csv('C:/Users/hp/Documents/JupyterDemo/Data Food Items/geoplaces2.csv', sep = ',', header = 0, encoding = \"ISO-8859-1\")\n",
    "rest_name.head()"
   ]
  },
  {
   "cell_type": "code",
   "execution_count": 198,
   "metadata": {},
   "outputs": [
    {
     "data": {
      "text/plain": [
       "array([  1,   2,   3,   4,   5,   6,   7,   8,   9,  10,  11,  12,  13,\n",
       "        14,  15,  16,  17,  18,  19,  20,  21,  22,  23,  24,  25,  26,\n",
       "        27,  28,  29,  30,  31,  32,  33,  34,  35,  36,  37,  38,  39,\n",
       "        40,  41,  42,  43,  44,  45,  46,  47,  48,  49,  50,  51,  52,\n",
       "        53,  54,  55,  56,  57,  58,  59,  60,  61,  62,  63,  64,  65,\n",
       "        66,  67,  68,  69,  70,  71,  72,  73,  74,  75,  76,  77,  78,\n",
       "        79,  80,  81,  82,  83,  84,  85,  86,  87,  88,  89,  90,  91,\n",
       "        92,  93,  94,  95,  96,  97,  98,  99, 100, 101, 102, 103, 104,\n",
       "       105, 106, 107, 108, 109, 110, 111, 112, 113, 114, 115, 116, 117,\n",
       "       118, 119, 120, 121, 122, 123, 124, 125, 126, 127, 128, 129])"
      ]
     },
     "execution_count": 198,
     "metadata": {},
     "output_type": "execute_result"
    }
   ],
   "source": [
    "np.arange(1,rest_name.shape[0])"
   ]
  },
  {
   "cell_type": "code",
   "execution_count": 236,
   "metadata": {},
   "outputs": [
    {
     "data": {
      "text/html": [
       "<div>\n",
       "<style scoped>\n",
       "    .dataframe tbody tr th:only-of-type {\n",
       "        vertical-align: middle;\n",
       "    }\n",
       "\n",
       "    .dataframe tbody tr th {\n",
       "        vertical-align: top;\n",
       "    }\n",
       "\n",
       "    .dataframe thead th {\n",
       "        text-align: right;\n",
       "    }\n",
       "</style>\n",
       "<table border=\"1\" class=\"dataframe\">\n",
       "  <thead>\n",
       "    <tr style=\"text-align: right;\">\n",
       "      <th></th>\n",
       "      <th>placeID</th>\n",
       "      <th>name</th>\n",
       "      <th>rest_col</th>\n",
       "    </tr>\n",
       "  </thead>\n",
       "  <tbody>\n",
       "    <tr>\n",
       "      <th>0</th>\n",
       "      <td>134999</td>\n",
       "      <td>Kiku Cuernavaca</td>\n",
       "      <td>1.0</td>\n",
       "    </tr>\n",
       "    <tr>\n",
       "      <th>1</th>\n",
       "      <td>132825</td>\n",
       "      <td>puesto de tacos</td>\n",
       "      <td>2.0</td>\n",
       "    </tr>\n",
       "    <tr>\n",
       "      <th>2</th>\n",
       "      <td>135106</td>\n",
       "      <td>El Rincón de San Francisco</td>\n",
       "      <td>3.0</td>\n",
       "    </tr>\n",
       "    <tr>\n",
       "      <th>3</th>\n",
       "      <td>132667</td>\n",
       "      <td>little pizza Emilio Portes Gil</td>\n",
       "      <td>4.0</td>\n",
       "    </tr>\n",
       "    <tr>\n",
       "      <th>4</th>\n",
       "      <td>132613</td>\n",
       "      <td>carnitas_mata</td>\n",
       "      <td>5.0</td>\n",
       "    </tr>\n",
       "  </tbody>\n",
       "</table>\n",
       "</div>"
      ],
      "text/plain": [
       "   placeID                            name  rest_col\n",
       "0   134999                 Kiku Cuernavaca       1.0\n",
       "1   132825                 puesto de tacos       2.0\n",
       "2   135106      El Rincón de San Francisco       3.0\n",
       "3   132667  little pizza Emilio Portes Gil       4.0\n",
       "4   132613                   carnitas_mata       5.0"
      ]
     },
     "execution_count": 236,
     "metadata": {},
     "output_type": "execute_result"
    }
   ],
   "source": [
    "rest_name = rest_name.loc[:,[\"placeID\", \"name\"]]\n",
    "rest_name['rest_col'] = pd.DataFrame(np.arange(1,rest_name.shape[0]))\n",
    "rest_name.head()"
   ]
  },
  {
   "cell_type": "code",
   "execution_count": 200,
   "metadata": {},
   "outputs": [
    {
     "data": {
      "text/html": [
       "<div>\n",
       "<style scoped>\n",
       "    .dataframe tbody tr th:only-of-type {\n",
       "        vertical-align: middle;\n",
       "    }\n",
       "\n",
       "    .dataframe tbody tr th {\n",
       "        vertical-align: top;\n",
       "    }\n",
       "\n",
       "    .dataframe thead th {\n",
       "        text-align: right;\n",
       "    }\n",
       "</style>\n",
       "<table border=\"1\" class=\"dataframe\">\n",
       "  <thead>\n",
       "    <tr style=\"text-align: right;\">\n",
       "      <th></th>\n",
       "      <th>userID</th>\n",
       "    </tr>\n",
       "  </thead>\n",
       "  <tbody>\n",
       "    <tr>\n",
       "      <th>0</th>\n",
       "      <td>U1001</td>\n",
       "    </tr>\n",
       "    <tr>\n",
       "      <th>1</th>\n",
       "      <td>U1002</td>\n",
       "    </tr>\n",
       "    <tr>\n",
       "      <th>2</th>\n",
       "      <td>U1003</td>\n",
       "    </tr>\n",
       "    <tr>\n",
       "      <th>3</th>\n",
       "      <td>U1004</td>\n",
       "    </tr>\n",
       "    <tr>\n",
       "      <th>4</th>\n",
       "      <td>U1005</td>\n",
       "    </tr>\n",
       "  </tbody>\n",
       "</table>\n",
       "</div>"
      ],
      "text/plain": [
       "  userID\n",
       "0  U1001\n",
       "1  U1002\n",
       "2  U1003\n",
       "3  U1004\n",
       "4  U1005"
      ]
     },
     "execution_count": 200,
     "metadata": {},
     "output_type": "execute_result"
    }
   ],
   "source": [
    "users = pd.read_csv('C:/Users/hp/Documents/JupyterDemo/Data Food Items/userprofile.csv', sep = ',', header = 0)\n",
    "users = users.loc[:,['userID']]\n",
    "users.head()"
   ]
  },
  {
   "cell_type": "code",
   "execution_count": 201,
   "metadata": {
    "collapsed": true
   },
   "outputs": [],
   "source": [
    "n_users = users.shape[0]\n",
    "n_items = rest_name.shape[0]"
   ]
  },
  {
   "cell_type": "code",
   "execution_count": 202,
   "metadata": {},
   "outputs": [
    {
     "data": {
      "text/plain": [
       "(130, 3)"
      ]
     },
     "execution_count": 202,
     "metadata": {},
     "output_type": "execute_result"
    }
   ],
   "source": [
    "rest_name.shape"
   ]
  },
  {
   "cell_type": "code",
   "execution_count": 203,
   "metadata": {},
   "outputs": [
    {
     "data": {
      "text/plain": [
       "userID            object\n",
       "placeID            int64\n",
       "rating             int64\n",
       "food_rating        int64\n",
       "service_rating     int64\n",
       "user_row           int64\n",
       "dtype: object"
      ]
     },
     "execution_count": 203,
     "metadata": {},
     "output_type": "execute_result"
    }
   ],
   "source": [
    "df['user_row'] = pd.to_numeric(df.userID.str.replace('[^0-9]',\"\"), errors = 'coerce') - 1000\n",
    "df.dtypes"
   ]
  },
  {
   "cell_type": "code",
   "execution_count": 240,
   "metadata": {},
   "outputs": [
    {
     "data": {
      "text/plain": [
       "138"
      ]
     },
     "execution_count": 240,
     "metadata": {},
     "output_type": "execute_result"
    }
   ],
   "source": [
    "n_users"
   ]
  },
  {
   "cell_type": "code",
   "execution_count": 204,
   "metadata": {
    "collapsed": true
   },
   "outputs": [],
   "source": [
    "df = pd.merge(df, rest_name, on='placeID', how='inner')"
   ]
  },
  {
   "cell_type": "code",
   "execution_count": 205,
   "metadata": {},
   "outputs": [
    {
     "data": {
      "text/html": [
       "<div>\n",
       "<style scoped>\n",
       "    .dataframe tbody tr th:only-of-type {\n",
       "        vertical-align: middle;\n",
       "    }\n",
       "\n",
       "    .dataframe tbody tr th {\n",
       "        vertical-align: top;\n",
       "    }\n",
       "\n",
       "    .dataframe thead th {\n",
       "        text-align: right;\n",
       "    }\n",
       "</style>\n",
       "<table border=\"1\" class=\"dataframe\">\n",
       "  <thead>\n",
       "    <tr style=\"text-align: right;\">\n",
       "      <th></th>\n",
       "      <th>userID</th>\n",
       "      <th>placeID</th>\n",
       "      <th>rating</th>\n",
       "      <th>food_rating</th>\n",
       "      <th>service_rating</th>\n",
       "      <th>user_row</th>\n",
       "      <th>name</th>\n",
       "      <th>rest_col</th>\n",
       "    </tr>\n",
       "  </thead>\n",
       "  <tbody>\n",
       "    <tr>\n",
       "      <th>0</th>\n",
       "      <td>U1077</td>\n",
       "      <td>135085</td>\n",
       "      <td>2</td>\n",
       "      <td>2</td>\n",
       "      <td>2</td>\n",
       "      <td>77</td>\n",
       "      <td>Tortas Locas Hipocampo</td>\n",
       "      <td>122.0</td>\n",
       "    </tr>\n",
       "    <tr>\n",
       "      <th>1</th>\n",
       "      <td>U1108</td>\n",
       "      <td>135085</td>\n",
       "      <td>1</td>\n",
       "      <td>2</td>\n",
       "      <td>1</td>\n",
       "      <td>108</td>\n",
       "      <td>Tortas Locas Hipocampo</td>\n",
       "      <td>122.0</td>\n",
       "    </tr>\n",
       "    <tr>\n",
       "      <th>2</th>\n",
       "      <td>U1081</td>\n",
       "      <td>135085</td>\n",
       "      <td>1</td>\n",
       "      <td>2</td>\n",
       "      <td>1</td>\n",
       "      <td>81</td>\n",
       "      <td>Tortas Locas Hipocampo</td>\n",
       "      <td>122.0</td>\n",
       "    </tr>\n",
       "    <tr>\n",
       "      <th>3</th>\n",
       "      <td>U1056</td>\n",
       "      <td>135085</td>\n",
       "      <td>2</td>\n",
       "      <td>2</td>\n",
       "      <td>2</td>\n",
       "      <td>56</td>\n",
       "      <td>Tortas Locas Hipocampo</td>\n",
       "      <td>122.0</td>\n",
       "    </tr>\n",
       "    <tr>\n",
       "      <th>4</th>\n",
       "      <td>U1134</td>\n",
       "      <td>135085</td>\n",
       "      <td>2</td>\n",
       "      <td>1</td>\n",
       "      <td>2</td>\n",
       "      <td>134</td>\n",
       "      <td>Tortas Locas Hipocampo</td>\n",
       "      <td>122.0</td>\n",
       "    </tr>\n",
       "  </tbody>\n",
       "</table>\n",
       "</div>"
      ],
      "text/plain": [
       "  userID  placeID  rating  food_rating  service_rating  user_row  \\\n",
       "0  U1077   135085       2            2               2        77   \n",
       "1  U1108   135085       1            2               1       108   \n",
       "2  U1081   135085       1            2               1        81   \n",
       "3  U1056   135085       2            2               2        56   \n",
       "4  U1134   135085       2            1               2       134   \n",
       "\n",
       "                     name  rest_col  \n",
       "0  Tortas Locas Hipocampo     122.0  \n",
       "1  Tortas Locas Hipocampo     122.0  \n",
       "2  Tortas Locas Hipocampo     122.0  \n",
       "3  Tortas Locas Hipocampo     122.0  \n",
       "4  Tortas Locas Hipocampo     122.0  "
      ]
     },
     "execution_count": 205,
     "metadata": {},
     "output_type": "execute_result"
    }
   ],
   "source": [
    "df.head()"
   ]
  },
  {
   "cell_type": "code",
   "execution_count": 206,
   "metadata": {},
   "outputs": [
    {
     "data": {
      "text/plain": [
       "(1161, 8)"
      ]
     },
     "execution_count": 206,
     "metadata": {},
     "output_type": "execute_result"
    }
   ],
   "source": [
    "df.shape"
   ]
  },
  {
   "cell_type": "code",
   "execution_count": 207,
   "metadata": {},
   "outputs": [
    {
     "data": {
      "text/html": [
       "<div>\n",
       "<style scoped>\n",
       "    .dataframe tbody tr th:only-of-type {\n",
       "        vertical-align: middle;\n",
       "    }\n",
       "\n",
       "    .dataframe tbody tr th {\n",
       "        vertical-align: top;\n",
       "    }\n",
       "\n",
       "    .dataframe thead th {\n",
       "        text-align: right;\n",
       "    }\n",
       "</style>\n",
       "<table border=\"1\" class=\"dataframe\">\n",
       "  <thead>\n",
       "    <tr style=\"text-align: right;\">\n",
       "      <th></th>\n",
       "      <th>userID</th>\n",
       "      <th>placeID</th>\n",
       "      <th>rating</th>\n",
       "      <th>food_rating</th>\n",
       "      <th>service_rating</th>\n",
       "      <th>user_row</th>\n",
       "      <th>name</th>\n",
       "      <th>rest_col</th>\n",
       "      <th>final_rating</th>\n",
       "    </tr>\n",
       "  </thead>\n",
       "  <tbody>\n",
       "    <tr>\n",
       "      <th>0</th>\n",
       "      <td>U1077</td>\n",
       "      <td>135085</td>\n",
       "      <td>2</td>\n",
       "      <td>2</td>\n",
       "      <td>2</td>\n",
       "      <td>77</td>\n",
       "      <td>Tortas Locas Hipocampo</td>\n",
       "      <td>122.0</td>\n",
       "      <td>2.000000</td>\n",
       "    </tr>\n",
       "    <tr>\n",
       "      <th>1</th>\n",
       "      <td>U1108</td>\n",
       "      <td>135085</td>\n",
       "      <td>1</td>\n",
       "      <td>2</td>\n",
       "      <td>1</td>\n",
       "      <td>108</td>\n",
       "      <td>Tortas Locas Hipocampo</td>\n",
       "      <td>122.0</td>\n",
       "      <td>1.333333</td>\n",
       "    </tr>\n",
       "    <tr>\n",
       "      <th>2</th>\n",
       "      <td>U1081</td>\n",
       "      <td>135085</td>\n",
       "      <td>1</td>\n",
       "      <td>2</td>\n",
       "      <td>1</td>\n",
       "      <td>81</td>\n",
       "      <td>Tortas Locas Hipocampo</td>\n",
       "      <td>122.0</td>\n",
       "      <td>1.333333</td>\n",
       "    </tr>\n",
       "    <tr>\n",
       "      <th>3</th>\n",
       "      <td>U1056</td>\n",
       "      <td>135085</td>\n",
       "      <td>2</td>\n",
       "      <td>2</td>\n",
       "      <td>2</td>\n",
       "      <td>56</td>\n",
       "      <td>Tortas Locas Hipocampo</td>\n",
       "      <td>122.0</td>\n",
       "      <td>2.000000</td>\n",
       "    </tr>\n",
       "    <tr>\n",
       "      <th>4</th>\n",
       "      <td>U1134</td>\n",
       "      <td>135085</td>\n",
       "      <td>2</td>\n",
       "      <td>1</td>\n",
       "      <td>2</td>\n",
       "      <td>134</td>\n",
       "      <td>Tortas Locas Hipocampo</td>\n",
       "      <td>122.0</td>\n",
       "      <td>1.666667</td>\n",
       "    </tr>\n",
       "  </tbody>\n",
       "</table>\n",
       "</div>"
      ],
      "text/plain": [
       "  userID  placeID  rating  food_rating  service_rating  user_row  \\\n",
       "0  U1077   135085       2            2               2        77   \n",
       "1  U1108   135085       1            2               1       108   \n",
       "2  U1081   135085       1            2               1        81   \n",
       "3  U1056   135085       2            2               2        56   \n",
       "4  U1134   135085       2            1               2       134   \n",
       "\n",
       "                     name  rest_col  final_rating  \n",
       "0  Tortas Locas Hipocampo     122.0      2.000000  \n",
       "1  Tortas Locas Hipocampo     122.0      1.333333  \n",
       "2  Tortas Locas Hipocampo     122.0      1.333333  \n",
       "3  Tortas Locas Hipocampo     122.0      2.000000  \n",
       "4  Tortas Locas Hipocampo     122.0      1.666667  "
      ]
     },
     "execution_count": 207,
     "metadata": {},
     "output_type": "execute_result"
    }
   ],
   "source": [
    "df['final_rating'] = np.mean(df.loc[:,[\"rating\",\"food_rating\",\"service_rating\"]], axis = 1)\n",
    "df.head()"
   ]
  },
  {
   "cell_type": "code",
   "execution_count": 208,
   "metadata": {},
   "outputs": [
    {
     "data": {
      "text/html": [
       "<div>\n",
       "<style scoped>\n",
       "    .dataframe tbody tr th:only-of-type {\n",
       "        vertical-align: middle;\n",
       "    }\n",
       "\n",
       "    .dataframe tbody tr th {\n",
       "        vertical-align: top;\n",
       "    }\n",
       "\n",
       "    .dataframe thead th {\n",
       "        text-align: right;\n",
       "    }\n",
       "</style>\n",
       "<table border=\"1\" class=\"dataframe\">\n",
       "  <thead>\n",
       "    <tr style=\"text-align: right;\">\n",
       "      <th></th>\n",
       "      <th>user_row</th>\n",
       "      <th>rest_col</th>\n",
       "      <th>rating</th>\n",
       "    </tr>\n",
       "  </thead>\n",
       "  <tbody>\n",
       "    <tr>\n",
       "      <th>0</th>\n",
       "      <td>77</td>\n",
       "      <td>122.0</td>\n",
       "      <td>2</td>\n",
       "    </tr>\n",
       "    <tr>\n",
       "      <th>1</th>\n",
       "      <td>108</td>\n",
       "      <td>122.0</td>\n",
       "      <td>1</td>\n",
       "    </tr>\n",
       "    <tr>\n",
       "      <th>2</th>\n",
       "      <td>81</td>\n",
       "      <td>122.0</td>\n",
       "      <td>1</td>\n",
       "    </tr>\n",
       "    <tr>\n",
       "      <th>3</th>\n",
       "      <td>56</td>\n",
       "      <td>122.0</td>\n",
       "      <td>2</td>\n",
       "    </tr>\n",
       "    <tr>\n",
       "      <th>4</th>\n",
       "      <td>134</td>\n",
       "      <td>122.0</td>\n",
       "      <td>2</td>\n",
       "    </tr>\n",
       "  </tbody>\n",
       "</table>\n",
       "</div>"
      ],
      "text/plain": [
       "   user_row  rest_col  rating\n",
       "0        77     122.0       2\n",
       "1       108     122.0       1\n",
       "2        81     122.0       1\n",
       "3        56     122.0       2\n",
       "4       134     122.0       2"
      ]
     },
     "execution_count": 208,
     "metadata": {},
     "output_type": "execute_result"
    }
   ],
   "source": [
    "df1 = df.loc[:,[\"user_row\",\"rest_col\",\"rating\"]]"
   ]
  },
  {
   "cell_type": "code",
   "execution_count": 227,
   "metadata": {
    "collapsed": true
   },
   "outputs": [],
   "source": [
    "df1 = df1.dropna(axis = 0)\n",
    "df1[pd.isnull(df1).any(axis=1)]\n",
    "df1['rest_col'] = df1['rest_col'].astype(int)"
   ]
  },
  {
   "cell_type": "code",
   "execution_count": 228,
   "metadata": {},
   "outputs": [
    {
     "data": {
      "text/html": [
       "<div>\n",
       "<style scoped>\n",
       "    .dataframe tbody tr th:only-of-type {\n",
       "        vertical-align: middle;\n",
       "    }\n",
       "\n",
       "    .dataframe tbody tr th {\n",
       "        vertical-align: top;\n",
       "    }\n",
       "\n",
       "    .dataframe thead th {\n",
       "        text-align: right;\n",
       "    }\n",
       "</style>\n",
       "<table border=\"1\" class=\"dataframe\">\n",
       "  <thead>\n",
       "    <tr style=\"text-align: right;\">\n",
       "      <th></th>\n",
       "      <th>user_row</th>\n",
       "      <th>rest_col</th>\n",
       "      <th>rating</th>\n",
       "    </tr>\n",
       "  </thead>\n",
       "  <tbody>\n",
       "    <tr>\n",
       "      <th>0</th>\n",
       "      <td>77</td>\n",
       "      <td>122</td>\n",
       "      <td>2</td>\n",
       "    </tr>\n",
       "    <tr>\n",
       "      <th>1</th>\n",
       "      <td>108</td>\n",
       "      <td>122</td>\n",
       "      <td>1</td>\n",
       "    </tr>\n",
       "    <tr>\n",
       "      <th>2</th>\n",
       "      <td>81</td>\n",
       "      <td>122</td>\n",
       "      <td>1</td>\n",
       "    </tr>\n",
       "    <tr>\n",
       "      <th>3</th>\n",
       "      <td>56</td>\n",
       "      <td>122</td>\n",
       "      <td>2</td>\n",
       "    </tr>\n",
       "    <tr>\n",
       "      <th>4</th>\n",
       "      <td>134</td>\n",
       "      <td>122</td>\n",
       "      <td>2</td>\n",
       "    </tr>\n",
       "  </tbody>\n",
       "</table>\n",
       "</div>"
      ],
      "text/plain": [
       "   user_row  rest_col  rating\n",
       "0        77       122       2\n",
       "1       108       122       1\n",
       "2        81       122       1\n",
       "3        56       122       2\n",
       "4       134       122       2"
      ]
     },
     "execution_count": 228,
     "metadata": {},
     "output_type": "execute_result"
    }
   ],
   "source": [
    "df1.head()"
   ]
  },
  {
   "cell_type": "code",
   "execution_count": 210,
   "metadata": {},
   "outputs": [
    {
     "data": {
      "text/plain": [
       "\"from scipy.sparse import coo_matrix\\nimport os.path\\ndef no_file():\\n    print 'Dataset not found, please download the file from:'\\n    print 'http://mtg.upf.edu/static/datasets/last.fm/lastfm-dataset-360K.tar.gz (1.6GB)'\\n    print 'then place it in recommender_system_py/data/ and change the file_path'\\n    print 'variable on the fetch_lastfm function'\\ndef fetch_lastfm(min_plays=200):\\n    file_path = 'data/100k_lines_lastfm.tsv'\\n    if not os.path.exists(file_path):\\n        return no_file()\\n    \\n    # Data to create our coo_matrix\\n    data, row, col = [], [], []\\n    # Artists by id, and users\\n    artists, users = {}, {}\\n    # Read the file and fill variables with data to\\n    # create the matrix and have the artists by id\\n    with open(file_path) as data_file:\\n        for n, line in enumerate(data_file):\\n            # If you use the original data from lastfm (14 million lines)\\n            # if n == SOMEINT: break\\n            # Readable data (for humans)\\n            readable_data = line.split('\\t')\\n            user =           readable_data[0]\\n            artist_id =      readable_data[1]\\n            artist_name =    readable_data[2]\\n            plays =     int(readable_data[3])\\n            if user not in users:\\n                users[user] = len(users)\\n            if artist_id not in artists:\\n                artists[artist_id] = {\\n                        'name' : artist_name,\\n                        'id' : len(artists)\\n                        }\\n            # Data for the coo_matrix if the artist was played > 200 times\\n            if plays > min_plays:\\n                data.append(plays)\\n                row.append(users[user])\\n                col.append(artists[artist_id]['id'])\\n    # Our matrix: ((plays, (user, artist)))\\n    coo = coo_matrix((data,(row,col)))\\n    # We return the matrix, the artist dictionary and the amount of users\\n    dictionary = {\\n        'matrix' : coo,\\n        'artists' : artists,\\n        'users' : len(users)\\n    }\\n    return dictionary\""
      ]
     },
     "execution_count": 210,
     "metadata": {},
     "output_type": "execute_result"
    }
   ],
   "source": [
    "\"\"\"from scipy.sparse import coo_matrix\n",
    "import os.path\n",
    "def no_file():\n",
    "    print 'Dataset not found, please download the file from:'\n",
    "    print 'http://mtg.upf.edu/static/datasets/last.fm/lastfm-dataset-360K.tar.gz (1.6GB)'\n",
    "    print 'then place it in recommender_system_py/data/ and change the file_path'\n",
    "    print 'variable on the fetch_lastfm function'\n",
    "def fetch_lastfm(min_plays=200):\n",
    "    file_path = 'data/100k_lines_lastfm.tsv'\n",
    "    if not os.path.exists(file_path):\n",
    "        return no_file()\n",
    "    \n",
    "    # Data to create our coo_matrix\n",
    "    data, row, col = [], [], []\n",
    "    # Artists by id, and users\n",
    "    artists, users = {}, {}\n",
    "    # Read the file and fill variables with data to\n",
    "    # create the matrix and have the artists by id\n",
    "    with open(file_path) as data_file:\n",
    "        for n, line in enumerate(data_file):\n",
    "            # If you use the original data from lastfm (14 million lines)\n",
    "            # if n == SOMEINT: break\n",
    "            # Readable data (for humans)\n",
    "            readable_data = line.split('\\t')\n",
    "            user =           readable_data[0]\n",
    "            artist_id =      readable_data[1]\n",
    "            artist_name =    readable_data[2]\n",
    "            plays =     int(readable_data[3])\n",
    "            if user not in users:\n",
    "                users[user] = len(users)\n",
    "            if artist_id not in artists:\n",
    "                artists[artist_id] = {\n",
    "                        'name' : artist_name,\n",
    "                        'id' : len(artists)\n",
    "                        }\n",
    "            # Data for the coo_matrix if the artist was played > 200 times\n",
    "            if plays > min_plays:\n",
    "                data.append(plays)\n",
    "                row.append(users[user])\n",
    "                col.append(artists[artist_id]['id'])\n",
    "    # Our matrix: ((plays, (user, artist)))\n",
    "    coo = coo_matrix((data,(row,col)))\n",
    "    # We return the matrix, the artist dictionary and the amount of users\n",
    "    dictionary = {\n",
    "        'matrix' : coo,\n",
    "        'artists' : artists,\n",
    "        'users' : len(users)\n",
    "    }\n",
    "    return dictionary\"\"\""
   ]
  },
  {
   "cell_type": "code",
   "execution_count": 211,
   "metadata": {},
   "outputs": [
    {
     "data": {
      "text/plain": [
       "<1157x3 sparse matrix of type '<class 'numpy.float64'>'\n",
       "\twith 3471 stored elements in Compressed Sparse Row format>"
      ]
     },
     "execution_count": 211,
     "metadata": {},
     "output_type": "execute_result"
    }
   ],
   "source": [
    "def sparse_df_to_array(df):\n",
    "    num_rows = df.shape[0]   \n",
    "\n",
    "    data = []\n",
    "    row = []\n",
    "    col = []\n",
    "\n",
    "    for i, col_name in enumerate(df.columns):\n",
    "        if isinstance(df[col_name], pd.SparseSeries):\n",
    "            column_index = df[col_name].sp_index\n",
    "            if isinstance(column_index, BlockIndex):\n",
    "                column_index = column_index.to_int_index()\n",
    "\n",
    "            ix = column_index.indices\n",
    "            data.append(df[col_name].sp_values)\n",
    "            row.append(ix)\n",
    "            col.append(len(df[col_name].sp_values) * [i])\n",
    "        else:\n",
    "            data.append(df[col_name].values)\n",
    "            row.append(np.array(range(0, num_rows)))\n",
    "            col.append(np.array(num_rows * [i]))\n",
    "\n",
    "    data_f = np.concatenate(data)\n",
    "    row_f = np.concatenate(row)\n",
    "    col_f = np.concatenate(col)\n",
    "\n",
    "    arr = coo_matrix((data_f, (row_f, col_f)), df.shape, dtype=np.float64)\n",
    "    coo_mat = arr.tocsr()\n",
    "    return coo_mat\n",
    "\n",
    "coo_mat = sparse_df_to_array(df1)\n",
    "coo_mat"
   ]
  },
  {
   "cell_type": "code",
   "execution_count": 222,
   "metadata": {
    "collapsed": true
   },
   "outputs": [],
   "source": [
    "#print(coo_mat)"
   ]
  },
  {
   "cell_type": "code",
   "execution_count": null,
   "metadata": {
    "collapsed": true
   },
   "outputs": [],
   "source": []
  },
  {
   "cell_type": "code",
   "execution_count": 213,
   "metadata": {},
   "outputs": [
    {
     "data": {
      "text/plain": [
       "'model = LightFM(loss=\\'warp\\')\\nmodel.fit(data[\\'train\\'], epochs=30, num_threads=2)\\n\\nfrom lightfm.evaluation import precision_at_k\\n# Evaluate the trained model\\nprint(\"Train precision: %.2f\" % precision_at_k(model, data[\\'train\\'], k=5).mean())\\nprint(\"Test precision: %.2f\" % precision_at_k(model, data[\\'test\\'], k=5).mean())\\n\\ndef sample_recommendation(model, data, user_ids):\\n    \\n    # no. of movies and users in training data\\n    n_users, n_items = data[\\'train\\'].shape\\n    \\n    # generate recommendation for each user we input\\n    for user_id in user_ids:\\n        # movies they already like into compressed sparse row format\\n        known_positives = data[\\'item_labels\\'][data[\\'train\\'].tocsr()[user_id].indices]\\n        \\n        # predict movies ratings for all movies\\n        scores = model.predict(user_id, np.arange(n_items))\\n        # sorting the result in descending order\\n        top_items = data[\\'item_labels\\'][np.argsort(-scores)]\\n        \\n        print(\"User %s\" % user_id)\\n        print(\"     Known positives:\")\\n        \\n        for x in known_positives[:3]:\\n            print(\"        %s\" % x)\\n\\n        print(\"     Recommended:\")\\n        \\n        for x in top_items[:3]:\\n            print(\"        %s\" % x)\\n        \\nsample_recommendation(model, data, [3, 25, 450])\\n\\n'"
      ]
     },
     "execution_count": 213,
     "metadata": {},
     "output_type": "execute_result"
    }
   ],
   "source": [
    "\"\"\"model = LightFM(loss='warp')\n",
    "model.fit(data['train'], epochs=30, num_threads=2)\n",
    "\n",
    "from lightfm.evaluation import precision_at_k\n",
    "# Evaluate the trained model\n",
    "print(\"Train precision: %.2f\" % precision_at_k(model, data['train'], k=5).mean())\n",
    "print(\"Test precision: %.2f\" % precision_at_k(model, data['test'], k=5).mean())\n",
    "\n",
    "def sample_recommendation(model, data, user_ids):\n",
    "    \n",
    "    # no. of movies and users in training data\n",
    "    n_users, n_items = data['train'].shape\n",
    "    \n",
    "    # generate recommendation for each user we input\n",
    "    for user_id in user_ids:\n",
    "        # movies they already like into compressed sparse row format\n",
    "        known_positives = data['item_labels'][data['train'].tocsr()[user_id].indices]\n",
    "        \n",
    "        # predict movies ratings for all movies\n",
    "        scores = model.predict(user_id, np.arange(n_items))\n",
    "        # sorting the result in descending order\n",
    "        top_items = data['item_labels'][np.argsort(-scores)]\n",
    "        \n",
    "        print(\"User %s\" % user_id)\n",
    "        print(\"     Known positives:\")\n",
    "        \n",
    "        for x in known_positives[:3]:\n",
    "            print(\"        %s\" % x)\n",
    "\n",
    "        print(\"     Recommended:\")\n",
    "        \n",
    "        for x in top_items[:3]:\n",
    "            print(\"        %s\" % x)\n",
    "        \n",
    "sample_recommendation(model, data, [3, 25, 450])\n",
    "\n",
    "\"\"\""
   ]
  },
  {
   "cell_type": "code",
   "execution_count": 214,
   "metadata": {},
   "outputs": [
    {
     "data": {
      "text/plain": [
       "<1157x3 sparse matrix of type '<class 'numpy.float64'>'\n",
       "\twith 3471 stored elements in Compressed Sparse Row format>"
      ]
     },
     "execution_count": 214,
     "metadata": {},
     "output_type": "execute_result"
    }
   ],
   "source": [
    "coo_mat"
   ]
  },
  {
   "cell_type": "markdown",
   "metadata": {},
   "source": []
  },
  {
   "cell_type": "code",
   "execution_count": null,
   "metadata": {
    "collapsed": true
   },
   "outputs": [],
   "source": []
  },
  {
   "cell_type": "code",
   "execution_count": null,
   "metadata": {
    "collapsed": true
   },
   "outputs": [],
   "source": []
  },
  {
   "cell_type": "code",
   "execution_count": 215,
   "metadata": {},
   "outputs": [
    {
     "data": {
      "text/plain": [
       "'from sklearn import model_selection\\ntrain_data, test_data = model_selection.train_test_split(df, test_size = 0.25)\\n\\n# Creating User-Item Matrices, one for Training and other for testing\\n\\n# intantiating training data matrix with 0 value\\ntrain_data_matrix = np.zeros((n_users, n_items))\\n# iterating through the train data matrix and inputting rating\\nfor each_line in train_data.itertuples():\\n    train_data_matrix[each_line[1]-1, each_line[2]-1] = each_line[3]\\n    \\n# intantiating testing data matrix with 0 value\\ntest_data_matrix = np.zeros((n_users, n_items))\\n# iterating through the train data matrix and inputting rating\\nfor each_line in train_data.itertuples():\\n    test_data_matrix[each_line[1]-1, each_line[2]-1] = each_line[3]'"
      ]
     },
     "execution_count": 215,
     "metadata": {},
     "output_type": "execute_result"
    }
   ],
   "source": [
    "\"\"\"from sklearn import model_selection\n",
    "train_data, test_data = model_selection.train_test_split(df, test_size = 0.25)\n",
    "\n",
    "# Creating User-Item Matrices, one for Training and other for testing\n",
    "\n",
    "# intantiating training data matrix with 0 value\n",
    "train_data_matrix = np.zeros((n_users, n_items))\n",
    "# iterating through the train data matrix and inputting rating\n",
    "for each_line in train_data.itertuples():\n",
    "    train_data_matrix[each_line[1]-1, each_line[2]-1] = each_line[3]\n",
    "    \n",
    "# intantiating testing data matrix with 0 value\n",
    "test_data_matrix = np.zeros((n_users, n_items))\n",
    "# iterating through the train data matrix and inputting rating\n",
    "for each_line in train_data.itertuples():\n",
    "    test_data_matrix[each_line[1]-1, each_line[2]-1] = each_line[3]\"\"\""
   ]
  },
  {
   "cell_type": "code",
   "execution_count": 216,
   "metadata": {},
   "outputs": [
    {
     "data": {
      "text/plain": [
       "132560"
      ]
     },
     "execution_count": 216,
     "metadata": {},
     "output_type": "execute_result"
    }
   ],
   "source": [
    "rest_name.placeID.min()"
   ]
  },
  {
   "cell_type": "code",
   "execution_count": 217,
   "metadata": {},
   "outputs": [
    {
     "data": {
      "text/plain": [
       "135109"
      ]
     },
     "execution_count": 217,
     "metadata": {},
     "output_type": "execute_result"
    }
   ],
   "source": [
    "rest_name.placeID.max()"
   ]
  },
  {
   "cell_type": "code",
   "execution_count": 218,
   "metadata": {},
   "outputs": [
    {
     "data": {
      "text/plain": [
       "2549"
      ]
     },
     "execution_count": 218,
     "metadata": {},
     "output_type": "execute_result"
    }
   ],
   "source": [
    "rest_name.placeID.max()-rest_name.placeID.min()"
   ]
  },
  {
   "cell_type": "code",
   "execution_count": 219,
   "metadata": {},
   "outputs": [
    {
     "data": {
      "text/plain": [
       "138"
      ]
     },
     "execution_count": 219,
     "metadata": {},
     "output_type": "execute_result"
    }
   ],
   "source": [
    "n_users"
   ]
  },
  {
   "cell_type": "code",
   "execution_count": 229,
   "metadata": {
    "collapsed": true
   },
   "outputs": [],
   "source": [
    "data = np.zeros((n_users, n_items))\n",
    "# iterating through the train data matrix and inputting rating\n",
    "for each_line in df1.itertuples():\n",
    "    data[each_line[1]-1, each_line[2]-1] = each_line[3]"
   ]
  },
  {
   "cell_type": "code",
   "execution_count": 230,
   "metadata": {},
   "outputs": [
    {
     "data": {
      "text/plain": [
       "array([[ 0.,  2.,  0., ...,  0.,  0.,  0.],\n",
       "       [ 0.,  2.,  1., ...,  0.,  0.,  0.],\n",
       "       [ 0.,  2.,  0., ...,  0.,  0.,  0.],\n",
       "       ..., \n",
       "       [ 0.,  0.,  0., ...,  0.,  0.,  0.],\n",
       "       [ 0.,  2.,  0., ...,  0.,  0.,  0.],\n",
       "       [ 0.,  0.,  0., ...,  0.,  0.,  0.]])"
      ]
     },
     "execution_count": 230,
     "metadata": {},
     "output_type": "execute_result"
    }
   ],
   "source": [
    "data"
   ]
  },
  {
   "cell_type": "code",
   "execution_count": 232,
   "metadata": {
    "collapsed": true
   },
   "outputs": [],
   "source": [
    "data = sparse.coo_matrix(data)"
   ]
  },
  {
   "cell_type": "code",
   "execution_count": 235,
   "metadata": {},
   "outputs": [
    {
     "name": "stdout",
     "output_type": "stream",
     "text": [
      "121         Tortas Locas Hipocampo\n",
      "116           Restaurante Tiberius\n",
      "60           Restaurant la Chalita\n",
      "1                  puesto de tacos\n",
      "25     Restaurant Oriental Express\n",
      "Name: name, dtype: object\n",
      "26           Mariscos Tia Licha\n",
      "112    Restaurant Las Mananitas\n",
      "48                         Vips\n",
      "100        Sanborns Casa Piedra\n",
      "64                       Subway\n",
      "Name: name, dtype: object\n"
     ]
    }
   ],
   "source": [
    "#create model\n",
    "model = LightFM(loss='warp')\n",
    "#train model\n",
    "model.fit(data, epochs=30, num_threads=2)\n",
    "\n",
    "# Print training data\n",
    "#print(data)\n",
    "\n",
    "def sample_recommendation(model, data, user_ids):\n",
    "\n",
    "    #number of users and movies in training data\n",
    "    n_users, n_items = data.shape\n",
    "\n",
    "    #generate recommendations for each user we input\n",
    "    for user_id in user_ids:\n",
    "\n",
    "        #movies our model predicts they will like\n",
    "        scores = model.predict(user_id, np.arange(n_items))\n",
    "        #print(scores)\n",
    "\n",
    "        #rank them in order of most liked to least\n",
    "        top_items = rest_name.name[np.argsort(-scores)]\n",
    "\n",
    "        print(top_items[:5])\n",
    "\n",
    "sample_recommendation(model, data, [9,78])"
   ]
  },
  {
   "cell_type": "code",
   "execution_count": 238,
   "metadata": {},
   "outputs": [
    {
     "name": "stdout",
     "output_type": "stream",
     "text": [
      "Train precision: nan\n",
      "Test precision: nan\n",
      "22    Restaurant and Bar and Clothesline Carlos N Ch...\n",
      "37                                           Koye Sushi\n",
      "23                                                  KFC\n",
      "20                     Restaurant El Muladar de Calzada\n",
      "61                                              El Club\n",
      "Name: name, dtype: object\n",
      "26                  Mariscos Tia Licha\n",
      "83                        tortas hawai\n",
      "36    El Herradero Restaurante and Bar\n",
      "50                         los Toneles\n",
      "84                            Carls Jr\n",
      "Name: name, dtype: object\n"
     ]
    },
    {
     "name": "stderr",
     "output_type": "stream",
     "text": [
      "C:\\Users\\hp\\Anaconda3\\lib\\site-packages\\ipykernel_launcher.py:18: FutureWarning: \n",
      "Passing list-likes to .loc or [] with any missing label will raise\n",
      "KeyError in the future, you can use .reindex() as an alternative.\n",
      "\n",
      "See the documentation here:\n",
      "http://pandas.pydata.org/pandas-docs/stable/indexing.html#deprecate-loc-reindex-listlike\n",
      "C:\\Users\\hp\\Anaconda3\\lib\\site-packages\\pandas\\core\\indexing.py:1367: FutureWarning: \n",
      "Passing list-likes to .loc or [] with any missing label will raise\n",
      "KeyError in the future, you can use .reindex() as an alternative.\n",
      "\n",
      "See the documentation here:\n",
      "http://pandas.pydata.org/pandas-docs/stable/indexing.html#deprecate-loc-reindex-listlike\n",
      "  return self._getitem_tuple(key)\n",
      "C:\\Users\\hp\\Anaconda3\\lib\\site-packages\\ipykernel_launcher.py:54: RuntimeWarning: Mean of empty slice.\n",
      "C:\\Users\\hp\\Anaconda3\\lib\\site-packages\\numpy\\core\\_methods.py:80: RuntimeWarning: invalid value encountered in true_divide\n",
      "  ret = ret.dtype.type(ret / rcount)\n",
      "C:\\Users\\hp\\Anaconda3\\lib\\site-packages\\ipykernel_launcher.py:55: RuntimeWarning: Mean of empty slice.\n"
     ]
    }
   ],
   "source": [
    "############ Final model Traning and testing data ####################\n",
    "\n",
    "import pandas as pd\n",
    "import numpy as np\n",
    "from lightfm import LightFM\n",
    "from scipy import sparse\n",
    "from scipy.sparse import coo_matrix\n",
    "from lightfm.evaluation import precision_at_k\n",
    "\n",
    "df = pd.read_csv('C:/Users/hp/Documents/JupyterDemo/Data Food Items/rating_final.csv', sep = ',', header = 0)\n",
    "rest_name = pd.read_csv('C:/Users/hp/Documents/JupyterDemo/Data Food Items/geoplaces2.csv', sep = ',', header = 0, encoding = \"ISO-8859-1\")\n",
    "users = pd.read_csv('C:/Users/hp/Documents/JupyterDemo/Data Food Items/userprofile.csv', sep = ',', header = 0)\n",
    "rest_name = rest_name.loc[:,[\"placeID\", \"name\"]]\n",
    "rest_name['rest_col'] = pd.DataFrame(np.arange(1,rest_name.shape[0]))\n",
    "users = users.loc[:,['userID']]\n",
    "df['user_row'] = pd.to_numeric(df.userID.str.replace('[^0-9]',\"\"), errors = 'coerce') - 1000\n",
    "df['final_rating'] = np.mean(df.loc[:,[\"rating\",\"food_rating\",\"service_rating\"]], axis = 1)\n",
    "df1 = df.loc[:,[\"user_row\",\"rest_col\",\"final_rating\"]]\n",
    "df1 = df1.dropna(axis = 0)\n",
    "df1[pd.isnull(df1).any(axis=1)]\n",
    "df1['rest_col'] = df1['rest_col'].astype(int)\n",
    "\n",
    "# Splitting the Data\n",
    "from sklearn import model_selection\n",
    "train_data, test_data = model_selection.train_test_split(df1, test_size = 0.25)\n",
    "\n",
    "n_users = users.shape[0]\n",
    "n_items = rest_name.shape[0]\n",
    "\n",
    "# Creating User-Item Matrices, one for Training and other for testing\n",
    "\n",
    "# intantiating training data matrix with 0 value\n",
    "train_data_matrix = np.zeros((n_users, n_items))\n",
    "# iterating through the train data matrix and inputting rating\n",
    "for each_line in train_data.itertuples():\n",
    "    train_data_matrix[each_line[1]-1, each_line[2]-1] = each_line[3]\n",
    "    \n",
    "# intantiating testing data matrix with 0 value\n",
    "test_data_matrix = np.zeros((n_users, n_items))\n",
    "# iterating through the train data matrix and inputting rating\n",
    "for each_line in train_data.itertuples():\n",
    "    test_data_matrix[each_line[1]-1, each_line[2]-1] = each_line[3]\n",
    "    \n",
    "train_data_matrix = sparse.coo_matrix(train_data_matrix)\n",
    "test_data_matrix = sparse.coo_matrix(test_data_matrix)\n",
    "\n",
    "\n",
    "#create model\n",
    "model = LightFM(loss='warp')\n",
    "#train model\n",
    "model.fit(train_data_matrix, epochs=30, num_threads=2)\n",
    "\n",
    "# Evaluate the trained model\n",
    "print(\"Train precision: %.2f\" % precision_at_k(model, train_data_matrix, k=5).mean())\n",
    "print(\"Test precision: %.2f\" % precision_at_k(model, test_data_matrix, k=5).mean())\n",
    "\n",
    "def sample_recommendation(model, data, user_ids):\n",
    "    #number of users and movies in training data\n",
    "    n_users, n_items = train_data_matrix.shape\n",
    "\n",
    "    #generate recommendations for each user we input\n",
    "    for user_id in user_ids:\n",
    "\n",
    "        #movies our model predicts they will like\n",
    "        scores = model.predict(user_id, np.arange(n_items))\n",
    "        #print(scores)\n",
    "\n",
    "        #rank them in order of most liked to least\n",
    "        top_items = rest_name.name[np.argsort(-scores)]\n",
    "\n",
    "        print(top_items[:5])\n",
    "\n",
    "sample_recommendation(model, data, [9,78])"
   ]
  },
  {
   "cell_type": "code",
   "execution_count": 239,
   "metadata": {},
   "outputs": [
    {
     "name": "stderr",
     "output_type": "stream",
     "text": [
      "C:\\Users\\hp\\Anaconda3\\lib\\site-packages\\ipykernel_launcher.py:53: RuntimeWarning: Mean of empty slice.\n",
      "C:\\Users\\hp\\Anaconda3\\lib\\site-packages\\numpy\\core\\_methods.py:80: RuntimeWarning: invalid value encountered in true_divide\n",
      "  ret = ret.dtype.type(ret / rcount)\n",
      "C:\\Users\\hp\\Anaconda3\\lib\\site-packages\\ipykernel_launcher.py:60: RuntimeWarning: Mean of empty slice.\n"
     ]
    },
    {
     "data": {
      "image/png": "[encoded data removed]",
      "text/plain": [
       "<matplotlib.figure.Figure at 0x233edc29e10>"
      ]
     },
     "metadata": {},
     "output_type": "display_data"
    }
   ],
   "source": [
    "%matplotlib inline\n",
    "\n",
    "import matplotlib\n",
    "import numpy as np\n",
    "import matplotlib.pyplot as plt\n",
    "\n",
    "from lightfm import LightFM\n",
    "from lightfm.evaluation import auc_score\n",
    "\n",
    "\n",
    "alpha = 1e-3\n",
    "epochs = 70\n",
    "\n",
    "# Splitting the Data\n",
    "from sklearn import model_selection\n",
    "train_data, test_data = model_selection.train_test_split(df1, test_size = 0.25)\n",
    "\n",
    "n_users = users.shape[0]\n",
    "n_items = rest_name.shape[0]\n",
    "\n",
    "# Creating User-Item Matrices, one for Training and other for testing\n",
    "\n",
    "# intantiating training data matrix with 0 value\n",
    "train_data_matrix = np.zeros((n_users, n_items))\n",
    "# iterating through the train data matrix and inputting rating\n",
    "for each_line in train_data.itertuples():\n",
    "    train_data_matrix[each_line[1]-1, each_line[2]-1] = each_line[3]\n",
    "    \n",
    "# intantiating testing data matrix with 0 value\n",
    "test_data_matrix = np.zeros((n_users, n_items))\n",
    "# iterating through the train data matrix and inputting rating\n",
    "for each_line in train_data.itertuples():\n",
    "    test_data_matrix[each_line[1]-1, each_line[2]-1] = each_line[3]\n",
    "    \n",
    "train_data_matrix = sparse.coo_matrix(train_data_matrix)\n",
    "test_data_matrix = sparse.coo_matrix(test_data_matrix)\n",
    "\n",
    "adagrad_model = LightFM(no_components=30,\n",
    "                        loss='warp',\n",
    "                        learning_schedule='adagrad',\n",
    "                        user_alpha=alpha,\n",
    "                        item_alpha=alpha)\n",
    "adadelta_model = LightFM(no_components=30,\n",
    "                        loss='warp',\n",
    "                        learning_schedule='adadelta',\n",
    "                        user_alpha=alpha,\n",
    "                        item_alpha=alpha)\n",
    "\n",
    "adagrad_auc = []\n",
    "\n",
    "for epoch in range(epochs):\n",
    "    adagrad_model.fit_partial(train_data_matrix, epochs=1)\n",
    "    adagrad_auc.append(auc_score(adagrad_model, test_data_matrix).mean())\n",
    "    \n",
    "    \n",
    "adadelta_auc = []\n",
    "\n",
    "for epoch in range(epochs):\n",
    "    adadelta_model.fit_partial(train_data_matrix, epochs=1)\n",
    "    adadelta_auc.append(auc_score(adadelta_model, test_data_matrix).mean())\n",
    "    \n",
    "x = np.arange(len(adagrad_auc))\n",
    "plt.plot(x, np.array(adagrad_auc))\n",
    "plt.plot(x, np.array(adadelta_auc))\n",
    "plt.legend(['adagrad', 'adadelta'], loc='lower right')\n",
    "plt.show()"
   ]
  }
 ],
 "metadata": {
  "kernelspec": {
   "display_name": "Python 3",
   "language": "python",
   "name": "python3"
  },
  "language_info": {
   "codemirror_mode": {
    "name": "ipython",
    "version": 3
   },
   "file_extension": ".py",
   "mimetype": "text/x-python",
   "name": "python",
   "nbconvert_exporter": "python",
   "pygments_lexer": "ipython3",
   "version": "3.6.3"
  }
 },
 "nbformat": 4,
 "nbformat_minor": 2
}
